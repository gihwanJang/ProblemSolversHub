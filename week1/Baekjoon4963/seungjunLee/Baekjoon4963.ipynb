{
 "cells": [
  {
   "cell_type": "code",
   "execution_count": 1,
   "id": "dfea53a0-29ff-45c7-9a34-dd9dad2c7f7c",
   "metadata": {},
   "outputs": [
    {
     "name": "stdin",
     "output_type": "stream",
     "text": [
      " 5 4\n",
      " 1 0 1 0 0\n",
      " 1 0 0 0 0\n",
      " 1 0 0 1 0\n",
      " 1 0 1 0 1\n"
     ]
    },
    {
     "name": "stdout",
     "output_type": "stream",
     "text": [
      "3\n"
     ]
    },
    {
     "name": "stdin",
     "output_type": "stream",
     "text": [
      " 0 0\n"
     ]
    }
   ],
   "source": [
    "from collections import deque\n",
    "\n",
    "def BFS(a, b, w, h, m, visited):\n",
    "    queue = deque()\n",
    "    queue.append([a, b])\n",
    "\n",
    "    while(queue):\n",
    "        x, y = queue.popleft()\n",
    "        for i in range(x-1, x+2):\n",
    "            for j in range(y-1, y+2):\n",
    "                if 0 <= i < w and 0 <= j < h:\n",
    "                    if not visited[j][i] and m[j][i] == 1:\n",
    "                        queue.append([i, j])\n",
    "                        visited[j][i] = True\n",
    "\n",
    "def main():\n",
    "    while(True):\n",
    "        w, h = map(int, input().split())\n",
    "        if w == 0 and h == 0:\n",
    "            break\n",
    "\n",
    "        ans = 0\n",
    "        m = []\n",
    "        visited = [[False]*w for _ in range(h)]\n",
    "\n",
    "        for _ in range(h):\n",
    "            m.append(list(map(int, input().split())))\n",
    "\n",
    "        for i in range(w):\n",
    "            for j in range(h):\n",
    "                if not visited[j][i] and m[j][i] == 1:\n",
    "                    BFS(i, j, w, h, m, visited)\n",
    "                    ans += 1\n",
    "\n",
    "        print(ans)\n",
    "        \n",
    "main()"
   ]
  }
 ],
 "metadata": {
  "kernelspec": {
   "display_name": "Python 3 (ipykernel)",
   "language": "python",
   "name": "python3"
  },
  "language_info": {
   "codemirror_mode": {
    "name": "ipython",
    "version": 3
   },
   "file_extension": ".py",
   "mimetype": "text/x-python",
   "name": "python",
   "nbconvert_exporter": "python",
   "pygments_lexer": "ipython3",
   "version": "3.9.7"
  }
 },
 "nbformat": 4,
 "nbformat_minor": 5
}
